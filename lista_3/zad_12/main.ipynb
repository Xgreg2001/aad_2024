{
 "cells": [
  {
   "cell_type": "code",
   "execution_count": 76,
   "metadata": {},
   "outputs": [],
   "source": [
    "%matplotlib inline\n",
    "import pandas as pd\n",
    "import numpy as np\n",
    "import statsmodels.api as sm\n",
    "from sklearn.model_selection import train_test_split\n",
    "from patsy import dmatrices\n",
    "from sklearn import metrics\n",
    "from statsmodels.stats.outliers_influence import OLSInfluence\n",
    "import seaborn as sns\n",
    "import matplotlib.pyplot as plt"
   ]
  },
  {
   "cell_type": "code",
   "execution_count": 77,
   "metadata": {},
   "outputs": [],
   "source": [
    "auto = pd.read_csv(\"Auto.csv\")\n",
    "auto[\"origin\"] = auto[\"origin\"].astype(\"category\")\n",
    "auto[\"horsepower\"] = pd.to_numeric(auto[\"horsepower\"], errors=\"coerce\")\n",
    "auto[\"weight\"] = pd.to_numeric(auto[\"weight\"], errors=\"coerce\")\n",
    "auto[\"cylinders\"] = pd.to_numeric(auto[\"cylinders\"], errors=\"coerce\")"
   ]
  },
  {
   "cell_type": "code",
   "execution_count": 78,
   "metadata": {},
   "outputs": [],
   "source": [
    "# Drop rows with null values\n",
    "auto = auto.dropna()"
   ]
  },
  {
   "cell_type": "code",
   "execution_count": 79,
   "metadata": {},
   "outputs": [],
   "source": [
    "def myLinReg(model_formula, df, printMSE=False, seed=42069):\n",
    "    \"\"\"\n",
    "    Function returns the summary for fitted linear model.\n",
    "\n",
    "    Parameter \"model_formula\" should be a patsy formula describing the model.\n",
    "    Parameter \"df\" is a dataframe.\n",
    "    \"\"\"\n",
    "\n",
    "    # Set seed\n",
    "    np.random.seed(seed)\n",
    "\n",
    "    # Split the data into training (80%) and validation set (20%)\n",
    "    mask = np.random.rand(len(df)) < 0.8\n",
    "    train = df[mask]\n",
    "    valid = df[~mask]\n",
    "\n",
    "    # Prepare the data (dmatrices is from patsy library)\n",
    "    y_train, X_train = dmatrices(model_formula, data=train, return_type=\"dataframe\")\n",
    "    y_valid, X_valid = dmatrices(model_formula, data=valid, return_type=\"dataframe\")\n",
    "\n",
    "    # Train the model\n",
    "    model = sm.OLS(y_train, X_train)\n",
    "    result = model.fit()\n",
    "\n",
    "    train_mse = metrics.mean_squared_error(y_train, result.predict(X_train))\n",
    "    valid_mse = metrics.mean_squared_error(y_valid, result.predict(X_valid))\n",
    "\n",
    "    if printMSE == True:\n",
    "        print(model_formula)\n",
    "        print(f\"MSE_Train: {train_mse}\")\n",
    "        print(f\"MSE_Test: {valid_mse}\\n\")\n",
    "\n",
    "    # Retrun fitted model summary\n",
    "    return (result, train_mse, valid_mse)"
   ]
  },
  {
   "cell_type": "code",
   "execution_count": 80,
   "metadata": {},
   "outputs": [
    {
     "name": "stdout",
     "output_type": "stream",
     "text": [
      "mpg ~ weight + year + origin\n",
      "MSE_Train: 10.984252814363328\n",
      "MSE_Test: 11.145664511860094\n",
      "\n"
     ]
    }
   ],
   "source": [
    "_ = myLinReg(\n",
    "    \"mpg ~ weight + year + origin\",\n",
    "    auto,\n",
    "    printMSE=True,\n",
    ")"
   ]
  },
  {
   "cell_type": "code",
   "execution_count": 81,
   "metadata": {},
   "outputs": [
    {
     "name": "stdout",
     "output_type": "stream",
     "text": [
      "mpg ~ weight + year + origin\n",
      "MSE_Train: 8.845700204567692\n",
      "MSE_Test: 10.291951880904195\n",
      "\n"
     ]
    }
   ],
   "source": [
    "auto_categorical = auto.copy()\n",
    "\n",
    "# change year to categorical variable\n",
    "auto_categorical[\"year\"] = auto_categorical[\"year\"].astype(\"category\")\n",
    "\n",
    "_ = myLinReg(\n",
    "    \"mpg ~ weight + year + origin\",\n",
    "    auto_categorical,\n",
    "    printMSE=True,\n",
    ")"
   ]
  },
  {
   "cell_type": "code",
   "execution_count": 82,
   "metadata": {},
   "outputs": [
    {
     "name": "stdout",
     "output_type": "stream",
     "text": [
      "Auto dataset:\n",
      "Average MSE_Train: 10.955305631351523\n",
      "Average MSE_Test: 11.37273141137678\n",
      "\n",
      "Auto dataset with year as categorical variable:\n",
      "Average MSE_Train: 8.97007449803151\n",
      "Average MSE_Test: 9.9953726104409\n"
     ]
    }
   ],
   "source": [
    "# run 1000 times for different seeds and calculate average MSE\n",
    "def calculate_average_mse_for_model(model_formula, df):\n",
    "    MSE_train = []\n",
    "    MSE_test = []\n",
    "\n",
    "    for i in range(1000):\n",
    "        (_, train_mse, valid_mse) = myLinReg(model_formula, df, seed=hash(i))\n",
    "\n",
    "        MSE_train.append(train_mse)\n",
    "        MSE_test.append(valid_mse)\n",
    "\n",
    "    print(f\"Average MSE_Train: {np.mean(MSE_train)}\")\n",
    "    print(f\"Average MSE_Test: {np.mean(MSE_test)}\")\n",
    "\n",
    "print(\"Auto dataset:\")\n",
    "calculate_average_mse_for_model(\"mpg ~ weight + year + origin\", auto)\n",
    "print(\"\\nAuto dataset with year as categorical variable:\")\n",
    "calculate_average_mse_for_model(\"mpg ~ weight + year + origin\", auto_categorical)"
   ]
  },
  {
   "cell_type": "code",
   "execution_count": null,
   "metadata": {},
   "outputs": [],
   "source": []
  }
 ],
 "metadata": {
  "kernelspec": {
   "display_name": "aad_2024",
   "language": "python",
   "name": "python3"
  },
  "language_info": {
   "codemirror_mode": {
    "name": "ipython",
    "version": 3
   },
   "file_extension": ".py",
   "mimetype": "text/x-python",
   "name": "python",
   "nbconvert_exporter": "python",
   "pygments_lexer": "ipython3",
   "version": "3.11.10"
  }
 },
 "nbformat": 4,
 "nbformat_minor": 2
}
